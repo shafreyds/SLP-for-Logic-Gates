{
  "nbformat": 4,
  "nbformat_minor": 0,
  "metadata": {
    "colab": {
      "provenance": []
    },
    "kernelspec": {
      "name": "python3",
      "display_name": "Python 3"
    },
    "language_info": {
      "name": "python"
    }
  },
  "cells": [
    {
      "cell_type": "code",
      "execution_count": null,
      "metadata": {
        "colab": {
          "base_uri": "https://localhost:8080/"
        },
        "id": "I_a-blI1fK9y",
        "outputId": "af2becef-00ef-43d6-d513-a674b922f2c4"
      },
      "outputs": [
        {
          "output_type": "stream",
          "name": "stdout",
          "text": [
            "1\n",
            "0\n",
            "1\n",
            "1\n",
            "1\n",
            "1\n",
            "1\n",
            "0\n",
            "0\n",
            "0\n"
          ]
        }
      ],
      "source": [
        "import numpy as np\n",
        "\n",
        "# Define the activation function (step function)\n",
        "def step_function(x):\n",
        "    if x >= 0:\n",
        "        return 1\n",
        "    else:\n",
        "        return 0\n",
        "\n",
        "# Define the logical functions\n",
        "def logical_NOT(x):\n",
        "    w = np.array([-1]) # Set the weight to -1\n",
        "    b = 0 # Set the bias to 0\n",
        "    x = np.array(x) # Convert the input to a numpy array\n",
        "    z = np.dot(w, x) + b # Calculate the weighted sum\n",
        "    y = step_function(z) # Apply the activation function\n",
        "    return y\n",
        "\n",
        "def logical_NAND(x):\n",
        "    w = np.array([-1, -1]) # Set the weights to -1\n",
        "    b = 2 # Set the bias to 2\n",
        "    x = np.array(x) # Convert the input to a numpy array\n",
        "    z = np.dot(w, x) + b # Calculate the weighted sum\n",
        "    y = step_function(z) # Apply the activation function\n",
        "    return y\n",
        "\n",
        "def logical_NOR(x):\n",
        "    w = np.array([-1, -1]) # Set the weights to -1\n",
        "    b = 0 # Set the bias to 0\n",
        "    x = np.array(x) # Convert the input to a numpy array\n",
        "    z = np.dot(w, x) + b # Calculate the weighted sum\n",
        "    y = step_function(z) # Apply the activation function\n",
        "    return y\n",
        "\n",
        "# Test the functions\n",
        "print(logical_NOT(0)) # Should output 1\n",
        "print(logical_NOT(1)) # Should output 0\n",
        "\n",
        "print(logical_NAND([0, 0])) # Should output 1\n",
        "print(logical_NAND([0, 1])) # Should output 1\n",
        "print(logical_NAND([1, 0])) # Should output 1\n",
        "print(logical_NAND([1, 1])) # Should output 0\n",
        "\n",
        "print(logical_NOR([0, 0])) # Should output 1\n",
        "print(logical_NOR([0, 1])) # Should output 0\n",
        "print(logical_NOR([1, 0])) # Should output 0\n",
        "print(logical_NOR([1, 1])) # Should output 0\n"
      ]
    }
  ]
}